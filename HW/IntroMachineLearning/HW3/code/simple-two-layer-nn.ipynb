{
 "cells": [
  {
   "cell_type": "code",
   "execution_count": 1,
   "metadata": {},
   "outputs": [],
   "source": [
    "%matplotlib inline\n",
    "import matplotlib.pyplot as plt\n",
    "import numpy as np\n",
    "\n",
    "import torch\n",
    "from torch import autograd\n",
    "import torch.nn.functional as F"
   ]
  },
  {
   "cell_type": "code",
   "execution_count": 2,
   "metadata": {},
   "outputs": [],
   "source": [
    "images = np.load(\"images.npy\")\n",
    "labels = np.load(\"labels.npy\")\n",
    "\n",
    "val_entries = np.random.choice(len(labels), size=int(len(labels)*0.1), replace=False)\n",
    "\n",
    "flat_images = np.zeros((len(images),len(images[0])*len(images[0][0])))\n",
    "for i in range(0, len(images)-1):\n",
    "    flat_images[i] = images[i].flatten()\n",
    "    \n",
    "not_val = [x for x in range(len(flat_images)) if x not in val_entries]\n",
    "    \n",
    "train_images = flat_images[not_val]\n",
    "train_labels = labels[not_val]\n",
    "val_images = flat_images[val_entries]\n",
    "val_labels = labels[val_entries]"
   ]
  },
  {
   "cell_type": "code",
   "execution_count": 3,
   "metadata": {},
   "outputs": [],
   "source": [
    "HEIGHT = 26\n",
    "WIDTH = 26\n",
    "NUM_CLASSES = 5\n",
    "D_H = 100\n",
    "NUM_OPT_STEPS = 5000"
   ]
  },
  {
   "cell_type": "code",
   "execution_count": 4,
   "metadata": {},
   "outputs": [],
   "source": [
    "class TwoLayerNN(torch.nn.Module):\n",
    "    \n",
    "    def __init__(self):\n",
    "        super(TwoLayerNN, self).__init__()\n",
    "        self.linear1 = torch.nn.Linear(HEIGHT * WIDTH, D_H)\n",
    "        self.linear2 = torch.nn.Linear(D_H, NUM_CLASSES)\n",
    "        \n",
    "    def forward(self, x):\n",
    "        h_relu = self.linear1(x).clamp(min=0)\n",
    "        y_pred = self.linear2(h_relu)\n",
    "        return y_pred"
   ]
  },
  {
   "cell_type": "code",
   "execution_count": 5,
   "metadata": {},
   "outputs": [],
   "source": [
    "model = TwoLayerNN()"
   ]
  },
  {
   "cell_type": "code",
   "execution_count": 6,
   "metadata": {},
   "outputs": [],
   "source": [
    "optimizer = torch.optim.Adam(model.parameters(), lr=1e-3)"
   ]
  },
  {
   "cell_type": "code",
   "execution_count": 7,
   "metadata": {},
   "outputs": [],
   "source": [
    "def train(batch_size):\n",
    "    i = np.random.choice(train_images.shape[0], size=batch_size, replace=False)\n",
    "    x = torch.from_numpy(train_images[i].astype(np.float32))\n",
    "    y = torch.from_numpy(train_labels[i].astype(np.int))\n",
    "    y_hat_ = model(x)\n",
    "    loss = F.cross_entropy(y_hat_, y)\n",
    "    optimizer.zero_grad()\n",
    "    loss.backward()\n",
    "    optimizer.step()\n",
    "    return loss.item()"
   ]
  },
  {
   "cell_type": "code",
   "execution_count": 8,
   "metadata": {},
   "outputs": [],
   "source": [
    "def accuracy(y, y_hat):\n",
    "    return (y == y_hat).astype(np.float).mean()"
   ]
  },
  {
   "cell_type": "code",
   "execution_count": 9,
   "metadata": {},
   "outputs": [],
   "source": [
    "def approx_train_accuracy():\n",
    "    i = np.random.choice(train_images.shape[0], size=1000, replace=False)\n",
    "    x = torch.from_numpy(train_images[i].astype(np.float32))\n",
    "    y = torch.from_numpy(train_labels[i].astype(np.int))\n",
    "    y_hat = torch.from_numpy(labels[i].astype(np.int))\n",
    "    for spot, val in enumerate(x):\n",
    "        y_hat[spot] = torch.max(model(val), 0)[1]\n",
    "    return accuracy(y.numpy(), y_hat.numpy())"
   ]
  },
  {
   "cell_type": "code",
   "execution_count": 10,
   "metadata": {},
   "outputs": [],
   "source": [
    "def val_accuracy():\n",
    "    x = torch.from_numpy(val_images.astype(np.float32))\n",
    "    y = torch.from_numpy(val_labels.astype(np.int))\n",
    "    y_hat = torch.from_numpy(val_labels.astype(np.int))\n",
    "    for spot, val in enumerate(x):\n",
    "        y_hat[spot] = torch.max(model(val), 0)[1]\n",
    "    return accuracy(y.numpy(), y_hat.numpy())"
   ]
  },
  {
   "cell_type": "code",
   "execution_count": 11,
   "metadata": {},
   "outputs": [
    {
     "name": "stdout",
     "output_type": "stream",
     "text": [
      "     0  0.24  0.21\n",
      "   100  0.50  0.50\n",
      "   200  0.52  0.52\n",
      "   300  0.58  0.60\n",
      "   400  0.49  0.51\n",
      "   500  0.52  0.51\n",
      "   600  0.51  0.53\n",
      "   700  0.53  0.54\n",
      "   800  0.51  0.51\n",
      "   900  0.57  0.58\n",
      "  1000  0.55  0.53\n",
      "  1100  0.49  0.51\n",
      "  1200  0.46  0.48\n",
      "  1300  0.55  0.56\n",
      "  1400  0.56  0.52\n",
      "  1500  0.57  0.55\n",
      "  1600  0.56  0.58\n",
      "  1700  0.53  0.53\n",
      "  1800  0.55  0.58\n",
      "  1900  0.57  0.56\n",
      "  2000  0.59  0.60\n",
      "  2100  0.59  0.60\n",
      "  2200  0.52  0.53\n",
      "  2300  0.62  0.60\n",
      "  2400  0.58  0.59\n",
      "  2500  0.53  0.56\n",
      "  2600  0.56  0.55\n",
      "  2700  0.51  0.55\n",
      "  2800  0.55  0.53\n",
      "  2900  0.48  0.51\n",
      "  3000  0.51  0.51\n",
      "  3100  0.59  0.56\n",
      "  3200  0.48  0.49\n",
      "  3300  0.59  0.58\n",
      "  3400  0.57  0.57\n",
      "  3500  0.55  0.56\n",
      "  3600  0.56  0.55\n",
      "  3700  0.58  0.59\n",
      "  3800  0.58  0.59\n",
      "  3900  0.63  0.62\n",
      "  4000  0.55  0.55\n",
      "  4100  0.58  0.60\n",
      "  4200  0.63  0.63\n",
      "  4300  0.62  0.61\n",
      "  4400  0.65  0.65\n",
      "  4500  0.60  0.63\n",
      "  4600  0.66  0.65\n",
      "  4700  0.56  0.58\n",
      "  4800  0.63  0.63\n",
      "  4900  0.62  0.63\n"
     ]
    }
   ],
   "source": [
    "train_accs, val_accs, steps = [], [], []\n",
    "for i in range(NUM_OPT_STEPS):\n",
    "    train(1)\n",
    "    if i % 100 == 0:\n",
    "        train_accs.append(approx_train_accuracy())\n",
    "        val_accs.append(val_accuracy())\n",
    "        steps.append(i)\n",
    "        print(\"%6d %5.2f %5.2f\" % (i, train_accs[-1], val_accs[-1]))"
   ]
  },
  {
   "cell_type": "code",
   "execution_count": 12,
   "metadata": {},
   "outputs": [
    {
     "data": {
      "text/plain": [
       "[<matplotlib.lines.Line2D at 0x7f748c94f8d0>]"
      ]
     },
     "execution_count": 12,
     "metadata": {},
     "output_type": "execute_result"
    },
    {
     "data": {
      "image/png": "[encoded data removed]",
      "text/plain": [
       "<Figure size 432x288 with 1 Axes>"
      ]
     },
     "metadata": {
      "needs_background": "light"
     },
     "output_type": "display_data"
    }
   ],
   "source": [
    "plt.plot(steps, train_accs)\n",
    "plt.plot(steps, val_accs)"
   ]
  },
  {
   "cell_type": "code",
   "execution_count": 13,
   "metadata": {},
   "outputs": [],
   "source": [
    "model.linear1.reset_parameters()\n",
    "model.linear2.reset_parameters()\n",
    "optimizer = torch.optim.Adam(model.parameters(), lr=1e-3)"
   ]
  },
  {
   "cell_type": "code",
   "execution_count": 14,
   "metadata": {},
   "outputs": [
    {
     "name": "stdout",
     "output_type": "stream",
     "text": [
      "     0  0.24  0.24\n",
      "   100  0.65  0.63\n",
      "   200  0.65  0.65\n",
      "   300  0.66  0.67\n",
      "   400  0.67  0.67\n",
      "   500  0.69  0.70\n",
      "   600  0.72  0.68\n",
      "   700  0.71  0.70\n",
      "   800  0.66  0.68\n",
      "   900  0.69  0.69\n",
      "  1000  0.72  0.71\n",
      "  1100  0.70  0.72\n",
      "  1200  0.70  0.70\n",
      "  1300  0.70  0.71\n",
      "  1400  0.72  0.70\n",
      "  1500  0.71  0.71\n",
      "  1600  0.72  0.70\n",
      "  1700  0.73  0.72\n",
      "  1800  0.74  0.73\n",
      "  1900  0.75  0.70\n",
      "  2000  0.76  0.73\n",
      "  2100  0.74  0.74\n",
      "  2200  0.73  0.75\n",
      "  2300  0.76  0.75\n",
      "  2400  0.70  0.69\n",
      "  2500  0.78  0.74\n",
      "  2600  0.73  0.75\n",
      "  2700  0.75  0.76\n",
      "  2800  0.72  0.72\n",
      "  2900  0.74  0.75\n",
      "  3000  0.75  0.76\n",
      "  3100  0.74  0.74\n",
      "  3200  0.76  0.73\n",
      "  3300  0.78  0.76\n",
      "  3400  0.76  0.76\n",
      "  3500  0.76  0.75\n",
      "  3600  0.79  0.76\n",
      "  3700  0.77  0.75\n",
      "  3800  0.76  0.76\n",
      "  3900  0.79  0.75\n",
      "  4000  0.77  0.76\n",
      "  4100  0.77  0.76\n",
      "  4200  0.70  0.71\n",
      "  4300  0.74  0.74\n",
      "  4400  0.76  0.76\n",
      "  4500  0.79  0.76\n",
      "  4600  0.71  0.72\n",
      "  4700  0.78  0.75\n",
      "  4800  0.78  0.75\n",
      "  4900  0.75  0.75\n"
     ]
    }
   ],
   "source": [
    "train_accs, val_accs, steps = [], [], []\n",
    "for i in range(NUM_OPT_STEPS):\n",
    "    train(10)\n",
    "    if i % 100 == 0:\n",
    "        train_accs.append(approx_train_accuracy())\n",
    "        val_accs.append(val_accuracy())\n",
    "        steps.append(i)\n",
    "        print(\"%6d %5.2f %5.2f\" % (i, train_accs[-1], val_accs[-1]))"
   ]
  },
  {
   "cell_type": "code",
   "execution_count": 15,
   "metadata": {},
   "outputs": [
    {
     "data": {
      "text/plain": [
       "[<matplotlib.lines.Line2D at 0x7f7468b49470>]"
      ]
     },
     "execution_count": 15,
     "metadata": {},
     "output_type": "execute_result"
    },
    {
     "data": {
      "image/png": "[encoded data removed]",
      "text/plain": [
       "<Figure size 432x288 with 1 Axes>"
      ]
     },
     "metadata": {
      "needs_background": "light"
     },
     "output_type": "display_data"
    }
   ],
   "source": [
    "plt.plot(steps, train_accs)\n",
    "plt.plot(steps, val_accs)"
   ]
  },
  {
   "cell_type": "code",
   "execution_count": 35,
   "metadata": {},
   "outputs": [
    {
     "name": "stdout",
     "output_type": "stream",
     "text": [
      "     0  0.24  0.25\n",
      "   100  0.58  0.59\n",
      "   200  0.64  0.65\n",
      "   300  0.69  0.67\n",
      "   400  0.68  0.68\n",
      "   500  0.69  0.69\n",
      "   600  0.69  0.69\n",
      "   700  0.70  0.70\n",
      "   800  0.72  0.70\n",
      "   900  0.74  0.71\n",
      "  1000  0.74  0.73\n",
      "  1100  0.74  0.74\n",
      "  1200  0.72  0.74\n",
      "  1300  0.78  0.74\n",
      "  1400  0.77  0.75\n",
      "  1500  0.76  0.76\n",
      "  1600  0.78  0.76\n",
      "  1700  0.77  0.77\n",
      "  1800  0.78  0.77\n",
      "  1900  0.78  0.77\n",
      "  2000  0.80  0.77\n",
      "  2100  0.81  0.78\n",
      "  2200  0.82  0.78\n",
      "  2300  0.82  0.78\n",
      "  2400  0.80  0.78\n",
      "  2500  0.83  0.79\n",
      "  2600  0.80  0.79\n",
      "  2700  0.84  0.79\n",
      "  2800  0.82  0.79\n",
      "  2900  0.84  0.80\n",
      "  3000  0.81  0.80\n",
      "  3100  0.82  0.80\n",
      "  3200  0.82  0.79\n",
      "  3300  0.84  0.79\n",
      "  3400  0.87  0.80\n",
      "  3500  0.84  0.80\n",
      "  3600  0.84  0.80\n",
      "  3700  0.86  0.80\n",
      "  3800  0.86  0.80\n",
      "  3900  0.86  0.81\n",
      "  4000  0.84  0.81\n",
      "  4100  0.84  0.80\n",
      "  4200  0.84  0.81\n",
      "  4300  0.86  0.81\n",
      "  4400  0.85  0.81\n",
      "  4500  0.83  0.81\n",
      "  4600  0.85  0.81\n",
      "  4700  0.85  0.81\n",
      "  4800  0.86  0.81\n",
      "  4900  0.88  0.81\n",
      "  5000  0.85  0.81\n",
      "  5100  0.86  0.81\n",
      "  5200  0.87  0.82\n",
      "  5300  0.86  0.81\n",
      "  5400  0.87  0.82\n",
      "  5500  0.86  0.82\n",
      "  5600  0.87  0.82\n",
      "  5700  0.87  0.81\n",
      "  5800  0.87  0.82\n",
      "  5900  0.87  0.82\n",
      "  6000  0.88  0.81\n",
      "  6100  0.86  0.81\n",
      "  6200  0.88  0.82\n",
      "  6300  0.87  0.81\n",
      "  6400  0.88  0.82\n",
      "  6500  0.90  0.82\n",
      "  6600  0.89  0.81\n",
      "  6700  0.89  0.82\n",
      "  6800  0.90  0.82\n",
      "  6900  0.90  0.82\n",
      "  7000  0.90  0.82\n",
      "  7100  0.88  0.82\n",
      "  7200  0.88  0.82\n",
      "  7300  0.89  0.82\n",
      "  7400  0.89  0.82\n",
      "  7500  0.90  0.82\n",
      "  7600  0.89  0.82\n",
      "  7700  0.91  0.82\n",
      "  7800  0.88  0.82\n",
      "  7900  0.89  0.82\n",
      "  8000  0.90  0.82\n",
      "  8100  0.90  0.82\n",
      "  8200  0.89  0.82\n",
      "  8300  0.92  0.82\n",
      "  8400  0.90  0.82\n",
      "  8500  0.90  0.82\n",
      "  8600  0.91  0.82\n",
      "  8700  0.89  0.82\n",
      "  8800  0.91  0.82\n",
      "  8900  0.91  0.82\n",
      "  9000  0.93  0.82\n",
      "  9100  0.92  0.82\n",
      "  9200  0.92  0.82\n",
      "  9300  0.93  0.82\n",
      "  9400  0.93  0.82\n",
      "  9500  0.90  0.82\n",
      "  9600  0.92  0.82\n",
      "  9700  0.91  0.82\n",
      "  9800  0.91  0.82\n",
      "  9900  0.92  0.82\n"
     ]
    }
   ],
   "source": [
    "model.linear1.reset_parameters()\n",
    "model.linear2.reset_parameters()\n",
    "optimizer = torch.optim.Adam(model.parameters(), lr=1e-4)\n",
    "train_accs, val_accs, steps = [], [], []\n",
    "for i in range(10000):\n",
    "    train(100)\n",
    "    if i % 100 == 0:\n",
    "        train_accs.append(approx_train_accuracy())\n",
    "        val_accs.append(val_accuracy())\n",
    "        steps.append(i)\n",
    "        print(\"%6d %5.2f %5.2f\" % (i, train_accs[-1], val_accs[-1]))"
   ]
  },
  {
   "cell_type": "code",
   "execution_count": 36,
   "metadata": {},
   "outputs": [
    {
     "data": {
      "text/plain": [
       "[<matplotlib.lines.Line2D at 0x7f7468a3a128>]"
      ]
     },
     "execution_count": 36,
     "metadata": {},
     "output_type": "execute_result"
    },
    {
     "data": {
      "image/png": "[encoded data removed]",
      "text/plain": [
       "<Figure size 432x288 with 1 Axes>"
      ]
     },
     "metadata": {
      "needs_background": "light"
     },
     "output_type": "display_data"
    }
   ],
   "source": [
    "plt.plot(steps, train_accs)\n",
    "plt.plot(steps, val_accs)"
   ]
  },
  {
   "cell_type": "code",
   "execution_count": null,
   "metadata": {},
   "outputs": [],
   "source": []
  }
 ],
 "metadata": {
  "kernelspec": {
   "display_name": "Python 3",
   "language": "python",
   "name": "python3"
  },
  "language_info": {
   "codemirror_mode": {
    "name": "ipython",
    "version": 3
   },
   "file_extension": ".py",
   "mimetype": "text/x-python",
   "name": "python",
   "nbconvert_exporter": "python",
   "pygments_lexer": "ipython3",
   "version": "3.6.6"
  }
 },
 "nbformat": 4,
 "nbformat_minor": 2
}
