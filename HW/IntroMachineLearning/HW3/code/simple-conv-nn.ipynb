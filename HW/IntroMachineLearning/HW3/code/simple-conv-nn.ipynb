{
 "cells": [
  {
   "cell_type": "code",
   "execution_count": 1,
   "metadata": {},
   "outputs": [],
   "source": [
    "%matplotlib inline\n",
    "import matplotlib.pyplot as plt\n",
    "import numpy as np\n",
    "\n",
    "import torch\n",
    "from torch import autograd\n",
    "import torch.nn.functional as F\n",
    "\n",
    "images = np.load(\"images.npy\")\n",
    "labels = np.load(\"labels.npy\")\n",
    "\n",
    "val_entries = np.random.choice(len(labels), size=int(len(labels)*0.1), replace=False)\n",
    "\n",
    "flat_images = np.zeros((len(images),len(images[0])*len(images[0][0])))\n",
    "for i in range(0, len(images)-1):\n",
    "    flat_images[i] = images[i].flatten()\n",
    "\n",
    "not_val = [x for x in range(len(flat_images)) if x not in val_entries]\n",
    "    \n",
    "train_images = flat_images[not_val]\n",
    "train_labels = labels[not_val]\n",
    "val_images = flat_images[val_entries]\n",
    "val_labels = labels[val_entries]\n",
    "\n",
    "HEIGHT = 26\n",
    "WIDTH = 26\n",
    "NUM_CLASSES = 5\n",
    "D_H = 100\n",
    "NUM_OPT_STEPS = 2000"
   ]
  },
  {
   "cell_type": "code",
   "execution_count": 2,
   "metadata": {},
   "outputs": [],
   "source": [
    "class TwoSimpleConvNN(torch.nn.Module):\n",
    "    \n",
    "    def __init__(self):\n",
    "        super().__init__()\n",
    "        self.conv1 = torch.nn.Conv2d(1, 8, kernel_size=3)\n",
    "        self.conv2 = torch.nn.Conv2d(8, 16 ,kernel_size=3, stride=2)\n",
    "        self.final_conv = torch.nn.Conv2d(16, 5, kernel_size=1)\n",
    "        \n",
    "    def forward(self, x):\n",
    "        x = x.view(-1, HEIGHT, WIDTH).unsqueeze(1)\n",
    "        x = F.relu(self.conv1(x))\n",
    "        x = F.relu(self.conv2(x))\n",
    "        n, c, h, w = x.size()\n",
    "        x = F.avg_pool2d(x, kernel_size=[h, w])\n",
    "        x = self.final_conv(x).view(-1, NUM_CLASSES)\n",
    "        return x"
   ]
  },
  {
   "cell_type": "code",
   "execution_count": 3,
   "metadata": {},
   "outputs": [],
   "source": [
    "model = TwoSimpleConvNN()\n",
    "optimizer = torch.optim.Adam(model.parameters(), lr=1e-3)"
   ]
  },
  {
   "cell_type": "code",
   "execution_count": 4,
   "metadata": {},
   "outputs": [],
   "source": [
    "def train(batch_size):\n",
    "    i = np.random.choice(train_images.shape[0], size=batch_size, replace=False)\n",
    "    x = torch.from_numpy(train_images[i].astype(np.float32))\n",
    "    y = torch.from_numpy(train_labels[i].astype(np.int))\n",
    "    y_hat_ = model(x)\n",
    "    loss = F.cross_entropy(y_hat_, y)\n",
    "    optimizer.zero_grad()\n",
    "    loss.backward()\n",
    "    optimizer.step()\n",
    "    del x\n",
    "    return loss.item()"
   ]
  },
  {
   "cell_type": "code",
   "execution_count": 5,
   "metadata": {},
   "outputs": [],
   "source": [
    "def accuracy(y, y_hat):\n",
    "    return (y == y_hat).astype(np.float).mean()"
   ]
  },
  {
   "cell_type": "code",
   "execution_count": 6,
   "metadata": {},
   "outputs": [],
   "source": [
    "def approx_train_accuracy():\n",
    "    i = np.random.choice(train_images.shape[0], size=1000, replace=False)\n",
    "    x = torch.from_numpy(train_images[i].astype(np.float32))\n",
    "    y = torch.from_numpy(train_labels[i].astype(np.int))\n",
    "    y_hat = torch.from_numpy(labels[i].astype(np.int))\n",
    "    for spot, val in enumerate(x):\n",
    "        y_hat[spot] = torch.max(model(val), 1)[1]\n",
    "    del x\n",
    "    return accuracy(y.numpy(), y_hat.numpy())"
   ]
  },
  {
   "cell_type": "code",
   "execution_count": 7,
   "metadata": {},
   "outputs": [],
   "source": [
    "def val_accuracy():\n",
    "    x = torch.from_numpy(val_images.astype(np.float32))\n",
    "    y = torch.from_numpy(val_labels.astype(np.int))\n",
    "    y_hat = torch.from_numpy(val_labels.astype(np.int))\n",
    "    for spot, val in enumerate(x):\n",
    "        y_hat[spot] = torch.max(model(val), 1)[1]\n",
    "    del x\n",
    "    return accuracy(y.numpy(), y_hat.numpy())"
   ]
  },
  {
   "cell_type": "code",
   "execution_count": 8,
   "metadata": {},
   "outputs": [
    {
     "name": "stdout",
     "output_type": "stream",
     "text": [
      "     0  0.20  0.21\n",
      "   100  0.27  0.27\n",
      "   200  0.49  0.47\n",
      "   300  0.49  0.47\n",
      "   400  0.59  0.61\n",
      "   500  0.53  0.54\n",
      "   600  0.58  0.59\n",
      "   700  0.70  0.69\n",
      "   800  0.69  0.69\n",
      "   900  0.64  0.64\n",
      "  1000  0.72  0.70\n",
      "  1100  0.73  0.72\n",
      "  1200  0.71  0.74\n",
      "  1300  0.72  0.73\n",
      "  1400  0.69  0.68\n",
      "  1500  0.70  0.70\n",
      "  1600  0.74  0.75\n",
      "  1700  0.72  0.73\n",
      "  1800  0.78  0.77\n",
      "  1900  0.69  0.72\n"
     ]
    }
   ],
   "source": [
    "train_accs, val_accs, steps = [], [], []\n",
    "for i in range(NUM_OPT_STEPS):\n",
    "    train(10)\n",
    "    if i % 100 == 0:\n",
    "        train_accs.append(approx_train_accuracy())\n",
    "        val_accs.append(val_accuracy())\n",
    "        steps.append(i)\n",
    "        print(\"%6d %5.2f %5.2f\" % (i, train_accs[-1], val_accs[-1]))"
   ]
  },
  {
   "cell_type": "code",
   "execution_count": 9,
   "metadata": {},
   "outputs": [
    {
     "data": {
      "text/plain": [
       "[<matplotlib.lines.Line2D at 0x7f4dcac08f28>]"
      ]
     },
     "execution_count": 9,
     "metadata": {},
     "output_type": "execute_result"
    },
    {
     "data": {
      "image/png": "[encoded data removed]",
      "text/plain": [
       "<Figure size 432x288 with 1 Axes>"
      ]
     },
     "metadata": {
      "needs_background": "light"
     },
     "output_type": "display_data"
    }
   ],
   "source": [
    "plt.plot(steps, train_accs)\n",
    "plt.plot(steps, val_accs)"
   ]
  },
  {
   "cell_type": "code",
   "execution_count": 10,
   "metadata": {},
   "outputs": [
    {
     "name": "stdout",
     "output_type": "stream",
     "text": [
      "     0  0.20  0.20\n",
      "   100  0.63  0.63\n",
      "   200  0.78  0.75\n",
      "   300  0.74  0.76\n",
      "   400  0.77  0.78\n",
      "   500  0.82  0.80\n",
      "   600  0.79  0.79\n",
      "   700  0.80  0.82\n",
      "   800  0.83  0.83\n",
      "   900  0.84  0.82\n",
      "  1000  0.81  0.83\n",
      "  1100  0.83  0.83\n",
      "  1200  0.84  0.84\n",
      "  1300  0.84  0.84\n",
      "  1400  0.85  0.83\n",
      "  1500  0.86  0.86\n",
      "  1600  0.86  0.86\n",
      "  1700  0.86  0.86\n",
      "  1800  0.85  0.85\n",
      "  1900  0.86  0.83\n",
      "  2000  0.87  0.86\n",
      "  2100  0.87  0.86\n",
      "  2200  0.85  0.85\n",
      "  2300  0.86  0.85\n",
      "  2400  0.86  0.87\n",
      "  2500  0.84  0.84\n",
      "  2600  0.85  0.86\n",
      "  2700  0.87  0.87\n",
      "  2800  0.85  0.87\n",
      "  2900  0.85  0.85\n",
      "  3000  0.87  0.87\n",
      "  3100  0.87  0.87\n",
      "  3200  0.87  0.87\n",
      "  3300  0.85  0.84\n",
      "  3400  0.89  0.87\n",
      "  3500  0.88  0.88\n",
      "  3600  0.86  0.87\n",
      "  3700  0.88  0.88\n",
      "  3800  0.89  0.88\n",
      "  3900  0.87  0.85\n",
      "  4000  0.85  0.86\n",
      "  4100  0.86  0.87\n",
      "  4200  0.86  0.87\n",
      "  4300  0.85  0.85\n",
      "  4400  0.87  0.88\n"
     ]
    }
   ],
   "source": [
    "model.conv1.reset_parameters()\n",
    "model.conv2.reset_parameters()\n",
    "model.final_conv.reset_parameters()\n",
    "optimizer = torch.optim.Adam(model.parameters(), lr=1e-2)\n",
    "train_accs, val_accs, steps = [], [], []\n",
    "for i in range(NUM_OPT_STEPS*3 - 1500):\n",
    "    train(800)\n",
    "    if i % 100 == 0:\n",
    "        train_accs.append(approx_train_accuracy())\n",
    "        val_accs.append(val_accuracy())\n",
    "        steps.append(i)\n",
    "        print(\"%6d %5.2f %5.2f\" % (i, train_accs[-1], val_accs[-1]))"
   ]
  },
  {
   "cell_type": "code",
   "execution_count": 11,
   "metadata": {},
   "outputs": [
    {
     "data": {
      "text/plain": [
       "[<matplotlib.lines.Line2D at 0x7f4d4c16afd0>]"
      ]
     },
     "execution_count": 11,
     "metadata": {},
     "output_type": "execute_result"
    },
    {
     "data": {
      "image/png": "[encoded data removed]",
      "text/plain": [
       "<Figure size 432x288 with 1 Axes>"
      ]
     },
     "metadata": {
      "needs_background": "light"
     },
     "output_type": "display_data"
    }
   ],
   "source": [
    "plt.plot(steps, train_accs)\n",
    "plt.plot(steps, val_accs)"
   ]
  },
  {
   "cell_type": "code",
   "execution_count": null,
   "metadata": {},
   "outputs": [],
   "source": []
  }
 ],
 "metadata": {
  "kernelspec": {
   "display_name": "Python 3",
   "language": "python",
   "name": "python3"
  },
  "language_info": {
   "codemirror_mode": {
    "name": "ipython",
    "version": 3
   },
   "file_extension": ".py",
   "mimetype": "text/x-python",
   "name": "python",
   "nbconvert_exporter": "python",
   "pygments_lexer": "ipython3",
   "version": "3.6.6"
  }
 },
 "nbformat": 4,
 "nbformat_minor": 2
}
