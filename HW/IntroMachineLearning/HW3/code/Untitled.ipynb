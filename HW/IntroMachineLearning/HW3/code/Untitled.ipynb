{
 "cells": [
  {
   "cell_type": "code",
   "execution_count": 17,
   "metadata": {},
   "outputs": [],
   "source": [
    "%matplotlib inline\n",
    "import matplotlib.pyplot as plt\n",
    "import numpy as np\n",
    "\n",
    "import torch\n",
    "from torch import autograd\n",
    "import torch.nn.functional as F\n",
    "\n",
    "images = np.load(\"images.npy\")\n",
    "labels = np.load(\"labels.npy\")\n",
    "\n",
    "flat_images = np.zeros((len(images),len(images[0])*len(images[0][0])))\n",
    "for i in range(0, len(images)-1):\n",
    "    flat_images[i] = images[i].flatten()\n",
    "\n",
    "HEIGHT = 26\n",
    "WIDTH = 26\n",
    "NUM_CLASSES = 5\n",
    "D_H = 100\n",
    "NUM_OPT_STEPS = 2000"
   ]
  },
  {
   "cell_type": "code",
   "execution_count": 18,
   "metadata": {},
   "outputs": [],
   "source": [
    "class TwoSimpleConvNN(torch.nn.Module):\n",
    "    \n",
    "    def __init__(self):\n",
    "        super().__init__()\n",
    "        self.conv1 = torch.nn.Conv2d(1, 8, kernel_size=3)\n",
    "        self.conv2 = torch.nn.Conv2d(8, 16 ,kernel_size=3, stride=2)\n",
    "        self.final_conv = torch.nn.Conv2d(16, 5, kernel_size=1)\n",
    "        \n",
    "    def forward(self, x):\n",
    "        x = x.view(-1, HEIGHT, WIDTH).unsqueeze(1)\n",
    "        x = F.relu(self.conv1(x))\n",
    "        x = F.relu(self.conv2(x))\n",
    "        n, c, h, w = x.size()\n",
    "        x = F.avg_pool2d(x, kernel_size=[h, w])\n",
    "        x = self.final_conv(x).view(-1, NUM_CLASSES)\n",
    "        return x"
   ]
  },
  {
   "cell_type": "code",
   "execution_count": 19,
   "metadata": {},
   "outputs": [],
   "source": [
    "model = TwoSimpleConvNN()\n",
    "optimizer = torch.optim.Adam(model.parameters(), lr=1e-3)"
   ]
  },
  {
   "cell_type": "code",
   "execution_count": 20,
   "metadata": {},
   "outputs": [],
   "source": [
    "def train(batch_size):\n",
    "    i = np.random.choice(flat_images.shape[0], size=batch_size, replace=False)\n",
    "    x = torch.from_numpy(flat_images[i].astype(np.float32))\n",
    "    y = torch.from_numpy(labels[i].astype(np.int))\n",
    "    y_hat_ = model(x)\n",
    "    loss = F.cross_entropy(y_hat_, y)\n",
    "    optimizer.zero_grad()\n",
    "    loss.backward()\n",
    "    optimizer.step()\n",
    "    return loss.item()"
   ]
  },
  {
   "cell_type": "code",
   "execution_count": 21,
   "metadata": {},
   "outputs": [],
   "source": [
    "def accuracy(y, y_hat):\n",
    "    return (y == y_hat).astype(np.float).mean()"
   ]
  },
  {
   "cell_type": "code",
   "execution_count": 22,
   "metadata": {},
   "outputs": [],
   "source": [
    "def approx_train_accuracy():\n",
    "    i = np.random.choice(flat_images.shape[0], size=1000, replace=False)\n",
    "    x = torch.from_numpy(flat_images[i].astype(np.float32))\n",
    "    y = torch.from_numpy(labels[i].astype(np.int))\n",
    "    y_hat = torch.from_numpy(labels[i].astype(np.int))\n",
    "    for spot, val in enumerate(x):\n",
    "        y_hat[spot] = torch.max(model(val), 1)[1]\n",
    "    return accuracy(y.numpy(), y_hat.numpy())"
   ]
  },
  {
   "cell_type": "code",
   "execution_count": null,
   "metadata": {},
   "outputs": [],
   "source": [
    "def val_accuracy():\n",
    "    x = torch.from_numpy(flat_images.astype(np.float32))\n",
    "    y = torch.from_numpy(labels.astype(np.int))\n",
    "    y_hat = torch.from_numpy(labels.astype(np.int))\n",
    "    for spot, val in enumerate(x):\n",
    "        print(torch.max(model(val), 1))\n",
    "        y_hat[spot] = torch.max(model(val), 1)[1]\n",
    "    return accuracy(y.numpy(), y_hat.numpy())"
   ]
  },
  {
   "cell_type": "code",
   "execution_count": null,
   "metadata": {},
   "outputs": [
    {
     "name": "stdout",
     "output_type": "stream",
     "text": [
      "     0  0.20  0.20\n",
      "   100  0.46  0.44\n",
      "   200  0.54  0.57\n",
      "   300  0.56  0.57\n",
      "   400  0.59  0.62\n",
      "   500  0.62  0.60\n",
      "   600  0.66  0.67\n",
      "   700  0.63  0.62\n",
      "   800  0.64  0.63\n",
      "   900  0.74  0.73\n",
      "  1000  0.71  0.73\n"
     ]
    }
   ],
   "source": [
    "train_accs, val_accs, steps = [], [], []\n",
    "for i in range(NUM_OPT_STEPS):\n",
    "    train(10)\n",
    "    if i % 100 == 0:\n",
    "        train_accs.append(approx_train_accuracy())\n",
    "        val_accs.append(val_accuracy())\n",
    "        steps.append(i)\n",
    "        print(\"%6d %5.2f %5.2f\" % (i, train_accs[-1], val_accs[-1]))"
   ]
  },
  {
   "cell_type": "code",
   "execution_count": null,
   "metadata": {},
   "outputs": [],
   "source": [
    "plt.plot(steps, train_accs)\n",
    "plt.plot(steps, val_accs)"
   ]
  },
  {
   "cell_type": "code",
   "execution_count": null,
   "metadata": {},
   "outputs": [],
   "source": [
    "val_accuracy()"
   ]
  },
  {
   "cell_type": "code",
   "execution_count": null,
   "metadata": {},
   "outputs": [],
   "source": []
  }
 ],
 "metadata": {
  "kernelspec": {
   "display_name": "Python 3",
   "language": "python",
   "name": "python3"
  },
  "language_info": {
   "codemirror_mode": {
    "name": "ipython",
    "version": 3
   },
   "file_extension": ".py",
   "mimetype": "text/x-python",
   "name": "python",
   "nbconvert_exporter": "python",
   "pygments_lexer": "ipython3",
   "version": "3.6.6"
  }
 },
 "nbformat": 4,
 "nbformat_minor": 2
}
