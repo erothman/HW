{
 "cells": [
  {
   "cell_type": "code",
   "execution_count": 1,
   "metadata": {},
   "outputs": [],
   "source": [
    "%matplotlib inline\n",
    "import matplotlib.pyplot as plt\n",
    "import numpy as np\n",
    "\n",
    "import torch\n",
    "from torch import autograd\n",
    "import torch.nn.functional as F\n",
    "\n",
    "import csv\n",
    "\n",
    "NUM_RAND_VER = 25000\n",
    "\n",
    "images = np.load(\"images.npy\")\n",
    "labels = np.load(\"labels.npy\")\n",
    "test_data = np.load(\"test_images.npy\")\n",
    "\n",
    "ver_entries = np.random.choice(labels.shape[0], size=NUM_RAND_VER, replace=False)\n",
    "images_flip_vertical = images[ver_entries].copy()\n",
    "\n",
    "#for index, image_hori in enumerate(images_flip_horizontal):\n",
    "#    for i in range(0, len(test_data[0])-1):\n",
    "#        for j in range(0,12):\n",
    "#            image_hori[i][j] = images[index][i][25-j]\n",
    "#        for k in range(0,12):\n",
    "#            image_hori[i][k+13] = images[index][i][12-k]\n",
    "\n",
    "for index_vert, image_vert in enumerate(images_flip_vertical):\n",
    "    for i in range(0, len(test_data[0][0])):\n",
    "        for j in range(0,13):\n",
    "            image_vert[j][i] = images[index_vert][25-j][i]\n",
    "        for k in range(0,13):\n",
    "            image_vert[k+13][i] = images[index_vert][12-k][i]\n",
    "\n",
    "images_full = np.concatenate((images, images_flip_vertical), axis=0)\n",
    "labels_full = np.concatenate((labels, labels[ver_entries]), axis=0)\n",
    "\n",
    "images_full = images\n",
    "labels_full = labels\n",
    "\n",
    "val_entries = np.random.choice(labels_full.shape[0], size=int(len(labels_full)*0.01), replace=False)\n",
    "\n",
    "\n",
    "\n",
    "flat_test_data = np.zeros((len(test_data), len(test_data[0])*len(test_data[0][0])))\n",
    "for j in range(0, len(test_data)-1):\n",
    "    flat_test_data[j] = test_data[j].flatten()\n",
    "\n",
    "flat_images = np.zeros((len(images_full),len(images_full[0])*len(images_full[0][0])))\n",
    "for i in range(0, len(images_full)-1):\n",
    "    flat_images[i] = images_full[i].flatten()\n",
    "\n",
    "not_val = [x for x in range(len(flat_images)) if x not in val_entries]\n",
    "\n",
    "train_images = flat_images[not_val]\n",
    "train_labels = labels_full[not_val]\n",
    "val_images = flat_images[val_entries]\n",
    "val_labels = labels_full[val_entries]\n",
    "\n",
    "MEAN = np.mean(train_images)\n",
    "STD = np.std(train_images, axis=0)\n",
    "    \n",
    "val_images -= np.mean(train_images)\n",
    "flat_test_data -= np.mean(train_images)\n",
    "train_images -= np.mean(train_images)\n",
    "val_images /= np.std(train_images, axis=0)\n",
    "flat_test_data /= np.std(train_images, axis=0)\n",
    "train_images /=np.std(train_images, axis=0)\n",
    "\n",
    "\n",
    "HEIGHT = 26\n",
    "WIDTH = 26\n",
    "NUM_CLASSES = 5\n",
    "D_H = 100\n",
    "NUM_OPT_STEPS = 2000"
   ]
  },
  {
   "cell_type": "code",
   "execution_count": 2,
   "metadata": {},
   "outputs": [],
   "source": [
    "class ConvNN1(torch.nn.Module):\n",
    "    \n",
    "    def __init__(self):\n",
    "        super().__init__()\n",
    "        self.conv1 = torch.nn.Conv2d(1, 8, 5)\n",
    "        self.conv2 = torch.nn.Conv2d(8, 64, 3)\n",
    "        self.conv3 = torch.nn.Conv2d(64, 128, 3)\n",
    "        self.conv4 = torch.nn.Conv2d(128, 128*8, 2)\n",
    "        self.fc1 = torch.nn.Linear(128*8, 400)\n",
    "        self.fc2 = torch.nn.Linear(400, 100)\n",
    "        self.fc3 = torch.nn.Linear(100, 5)\n",
    "        self.conv2_drop = torch.nn.Dropout2d(p=0.25)\n",
    "        \n",
    "    def forward(self, x):\n",
    "        x = x.view(-1, HEIGHT, WIDTH).unsqueeze(1)\n",
    "        \n",
    "        x = F.relu(self.conv1(x))\n",
    "        x = F.relu(F.max_pool2d(self.conv2_drop(self.conv2(x)), kernel_size=3))\n",
    "        x = F.relu(self.conv2_drop(self.conv3(x)))\n",
    "        x = F.relu(self.conv2_drop(self.conv4(x)))\n",
    "        \n",
    "        n, c, h, w = x.size()\n",
    "        x = F.avg_pool2d(x, kernel_size=[h, w])\n",
    "        \n",
    "        x = x.view(-1, 128*8)\n",
    "        \n",
    "        x = F.relu(self.fc1(x))\n",
    "        x = F.dropout(x, training=self.training)\n",
    "        x = F.relu(self.fc2(x))\n",
    "        x = F.dropout(x, training=self.training)\n",
    "        x = self.fc3(x)\n",
    "        return x\n",
    "    "
   ]
  },
  {
   "cell_type": "code",
   "execution_count": 3,
   "metadata": {},
   "outputs": [],
   "source": [
    "class ConvNN2(torch.nn.Module):\n",
    "    \n",
    "    def __init__(self):\n",
    "        super().__init__()\n",
    "        self.conv1 = torch.nn.Conv2d(1, 8, 5)\n",
    "        self.conv2 = torch.nn.Conv2d(8, 64, 3)\n",
    "        self.conv3 = torch.nn.Conv2d(64, 128, 3)\n",
    "        self.conv4 = torch.nn.Conv2d(128, 128*4, 2)\n",
    "        self.fc1 = torch.nn.Linear(128*4, 200)\n",
    "        self.fc2 = torch.nn.Linear(200, 50)\n",
    "        self.fc3 = torch.nn.Linear(50, 5)\n",
    "        self.conv2_drop = torch.nn.Dropout2d(p=0.25)\n",
    "        \n",
    "    def forward(self, x):\n",
    "        x = x.view(-1, HEIGHT, WIDTH).unsqueeze(1)\n",
    "        \n",
    "        x = F.relu(self.conv2_drop(self.conv1(x)))\n",
    "        x = F.relu(F.avg_pool2d(self.conv2_drop(self.conv2(x)), kernel_size=3))\n",
    "        x = F.relu(self.conv2_drop(self.conv3(x)))\n",
    "        x = F.relu(self.conv2_drop(self.conv4(x)))\n",
    "        \n",
    "        n, c, h, w = x.size()\n",
    "        x = F.avg_pool2d(x, kernel_size=[h, w])\n",
    "        \n",
    "        x = x.view(-1, 128*4)\n",
    "        \n",
    "        x = F.relu(self.fc1(x))\n",
    "        x = F.dropout(x, training=self.training)\n",
    "        x = F.relu(self.fc2(x))\n",
    "        x = F.dropout(x, training=self.training)\n",
    "        x = self.fc3(x)\n",
    "        return x"
   ]
  },
  {
   "cell_type": "code",
   "execution_count": 4,
   "metadata": {},
   "outputs": [],
   "source": [
    "model = ConvNN1()\n",
    "optimizer = torch.optim.Adam(model.parameters(), lr=1e-3, weight_decay=0)"
   ]
  },
  {
   "cell_type": "code",
   "execution_count": 5,
   "metadata": {},
   "outputs": [],
   "source": [
    "def train(batch_size):\n",
    "    i = np.random.choice(train_images.shape[0], size=batch_size, replace=False)\n",
    "    x = torch.from_numpy(train_images[i].astype(np.float32))\n",
    "    y = torch.from_numpy(train_labels[i].astype(np.int))\n",
    "    del i\n",
    "    y_hat_ = model.forward(x)\n",
    "    loss = F.cross_entropy(y_hat_, y)\n",
    "    del y\n",
    "    del x\n",
    "    optimizer.zero_grad()\n",
    "    loss.backward()\n",
    "    optimizer.step()\n",
    "    return loss.item()"
   ]
  },
  {
   "cell_type": "code",
   "execution_count": 6,
   "metadata": {},
   "outputs": [],
   "source": [
    "def accuracy(y, y_hat):\n",
    "    return (y == y_hat).astype(np.float).mean()"
   ]
  },
  {
   "cell_type": "code",
   "execution_count": 7,
   "metadata": {},
   "outputs": [],
   "source": [
    "def approx_train_accuracy():\n",
    "    i = np.random.choice(train_images.shape[0], size=1000, replace=False)\n",
    "    x = torch.from_numpy(train_images[i].astype(np.float32))\n",
    "    y = torch.from_numpy(train_labels[i].astype(np.int))\n",
    "    y_hat = torch.from_numpy(labels_full[i].astype(np.int))\n",
    "    for spot, val in enumerate(x):\n",
    "        y_hat[spot] = torch.max(model(val), 1)[1]\n",
    "    del x\n",
    "    return accuracy(y.numpy(), y_hat.numpy())"
   ]
  },
  {
   "cell_type": "code",
   "execution_count": 8,
   "metadata": {},
   "outputs": [],
   "source": [
    "def val_accuracy():\n",
    "    x = torch.from_numpy(val_images.astype(np.float32))\n",
    "    y = torch.from_numpy(val_labels.astype(np.int))\n",
    "    y_hat = torch.from_numpy(val_labels.astype(np.int))\n",
    "    for spot, val in enumerate(x):\n",
    "        y_hat[spot] = torch.max(model(val), 1)[1]\n",
    "    del x\n",
    "    return accuracy(y.numpy(), y_hat.numpy())"
   ]
  },
  {
   "cell_type": "code",
   "execution_count": 9,
   "metadata": {
    "scrolled": false
   },
   "outputs": [
    {
     "name": "stdout",
     "output_type": "stream",
     "text": [
      "     0  0.21  0.21\n",
      "   100  0.76  0.77\n",
      "   200  0.88  0.90\n",
      "   300  0.89  0.89\n",
      "   400  0.92  0.92\n",
      "   500  0.93  0.92\n",
      "   600  0.93  0.92\n",
      "   700  0.94  0.94\n",
      "   800  0.93  0.94\n",
      "   900  0.95  0.94\n",
      "  1000  0.93  0.94\n",
      "  1100  0.93  0.94\n",
      "  1200  0.92  0.94\n",
      "  1300  0.93  0.94\n",
      "  1400  0.92  0.94\n",
      "  1500  0.93  0.94\n",
      "  1600  0.94  0.94\n",
      "  1700  0.93  0.94\n",
      "  1800  0.92  0.94\n",
      "  1900  0.92  0.94\n",
      "  2000  0.92  0.94\n",
      "  2100  0.93  0.94\n",
      "  2200  0.93  0.94\n",
      "  2300  0.93  0.94\n",
      "  2400  0.93  0.94\n",
      "  2500  0.93  0.94\n",
      "  2600  0.94  0.94\n",
      "  2700  0.94  0.94\n",
      "  2800  0.93  0.94\n",
      "  2900  0.94  0.94\n",
      "  3000  0.93  0.94\n",
      "  3100  0.93  0.94\n",
      "  3200  0.94  0.94\n",
      "  3300  0.93  0.94\n",
      "  3400  0.92  0.94\n",
      "  3500  0.92  0.94\n",
      "  3600  0.92  0.94\n",
      "  3700  0.92  0.94\n",
      "  3800  0.93  0.94\n",
      "  3900  0.93  0.94\n",
      "  4000  0.93  0.94\n"
     ]
    }
   ],
   "source": [
    "train_accs, val_accs, steps = [], [], []\n",
    "last_val = 0.0\n",
    "last_val2 = -1.0\n",
    "flag = True\n",
    "for i in range(4001):\n",
    "    model.train()\n",
    "    train(200)\n",
    "    if i % 100 == 0:\n",
    "        model.eval()\n",
    "        train_accs.append(approx_train_accuracy())\n",
    "        val_accs.append(val_accuracy())\n",
    "        steps.append(i)\n",
    "        print(\"%6d %5.2f %5.2f\" % (i, train_accs[-1], val_accs[-1]))\n",
    "        if val_accs[-1] >= 0.935 and flag:\n",
    "            optimizer = torch.optim.SGD(model.parameters(), lr=5e-6, weight_decay=0)\n",
    "            flag = False"
   ]
  },
  {
   "cell_type": "code",
   "execution_count": 10,
   "metadata": {
    "scrolled": true
   },
   "outputs": [
    {
     "data": {
      "text/plain": [
       "[<matplotlib.lines.Line2D at 0x7f4bdfa30668>]"
      ]
     },
     "execution_count": 10,
     "metadata": {},
     "output_type": "execute_result"
    },
    {
     "data": {
      "image/png": "[encoded data removed]",
      "text/plain": [
       "<Figure size 432x288 with 1 Axes>"
      ]
     },
     "metadata": {
      "needs_background": "light"
     },
     "output_type": "display_data"
    }
   ],
   "source": [
    "plt.plot(steps, train_accs)\n",
    "plt.plot(steps, val_accs)"
   ]
  },
  {
   "cell_type": "code",
   "execution_count": 17,
   "metadata": {},
   "outputs": [],
   "source": [
    "with open('erothma6.csv', 'w', newline='') as csvfile:\n",
    "    csv_writer = csv.writer(csvfile, delimiter=',')\n",
    "    csv_writer.writerow([\"id\", \"label\"])\n",
    "    data_for_test = torch.from_numpy(flat_test_data.astype(np.float32))\n",
    "    model.eval()\n",
    "    for numb, test_val in enumerate(data_for_test):\n",
    "        csv_writer.writerow([numb, torch.max(model(test_val), 1)[1].numpy()[0]])"
   ]
  },
  {
   "cell_type": "code",
   "execution_count": 71,
   "metadata": {},
   "outputs": [
    {
     "name": "stdout",
     "output_type": "stream",
     "text": [
      "     0  0.22 0.204\n",
      "   100  0.64 0.658\n",
      "   200  0.76 0.756\n",
      "   300  0.79 0.778\n",
      "   400  0.83 0.836\n",
      "   500  0.85 0.834\n",
      "   600  0.89 0.858\n",
      "   700  0.88 0.850\n",
      "   800  0.90 0.862\n",
      "   900  0.88 0.842\n",
      "  1000  0.89 0.880\n",
      "  1100  0.90 0.870\n",
      "  1200  0.88 0.852\n",
      "  1300  0.90 0.882\n",
      "  1400  0.91 0.884\n",
      "  1500  0.90 0.888\n",
      "  1600  0.93 0.874\n",
      "  1700  0.90 0.884\n",
      "  1800  0.91 0.888\n",
      "  1900  0.93 0.888\n",
      "  2000  0.93 0.896\n",
      "  2100  0.92 0.888\n",
      "  2200  0.91 0.888\n",
      "  2300  0.91 0.884\n",
      "  2400  0.92 0.886\n",
      "  2500  0.92 0.892\n",
      "  2600  0.92 0.904\n",
      "  2700  0.92 0.898\n",
      "  2800  0.95 0.900\n",
      "  2900  0.92 0.908\n",
      "  3000  0.92 0.898\n",
      "  3100  0.93 0.906\n",
      "  3200  0.93 0.904\n",
      "  3300  0.94 0.910\n",
      "  3400  0.95 0.904\n",
      "  3500  0.94 0.926\n"
     ]
    }
   ],
   "source": [
    "model = ConvNN2()\n",
    "optimizer = torch.optim.Adam(model.parameters(), lr=1e-3, weight_decay=5e-4)\n",
    "train_accs, val_accs, steps = [], [], []\n",
    "for i in range(3600):\n",
    "    train(800)\n",
    "    if i % 100 == 0:\n",
    "        train_accs.append(approx_train_accuracy())\n",
    "        val_accs.append(val_accuracy())\n",
    "        steps.append(i)\n",
    "        print(\"%6d %5.2f %5.3f\" % (i, train_accs[-1], val_accs[-1]))\n",
    "        if i == 3000:\n",
    "            optimizer = torch.optim.Adam(model.parameters(), lr=1e-4, weight_decay=5e-4)"
   ]
  },
  {
   "cell_type": "code",
   "execution_count": 72,
   "metadata": {},
   "outputs": [
    {
     "data": {
      "text/plain": [
       "[<matplotlib.lines.Line2D at 0x7f48365be668>]"
      ]
     },
     "execution_count": 72,
     "metadata": {},
     "output_type": "execute_result"
    },
    {
     "data": {
      "image/png": "[encoded data removed]",
      "text/plain": [
       "<Figure size 432x288 with 1 Axes>"
      ]
     },
     "metadata": {
      "needs_background": "light"
     },
     "output_type": "display_data"
    }
   ],
   "source": [
    "plt.plot(steps, train_accs)\n",
    "plt.plot(steps, val_accs)"
   ]
  },
  {
   "cell_type": "code",
   "execution_count": 13,
   "metadata": {
    "scrolled": false
   },
   "outputs": [
    {
     "name": "stdout",
     "output_type": "stream",
     "text": [
      "     0  0.20 0.226\n",
      "   100  0.83 0.810\n",
      "   200  0.89 0.858\n",
      "   300  0.89 0.886\n",
      "   400  0.91 0.890\n",
      "   500  0.93 0.914\n",
      "   600  0.93 0.898\n",
      "   700  0.93 0.936\n",
      "   800  0.94 0.916\n",
      "   900  0.95 0.930\n",
      "  1000  0.95 0.918\n",
      "  1100  0.95 0.910\n",
      "  1200  0.95 0.922\n",
      "  1300  0.96 0.930\n",
      "  1400  0.96 0.928\n",
      "  1500  0.95 0.932\n",
      "  1600  0.96 0.922\n",
      "  1700  0.95 0.926\n",
      "  1800  0.97 0.930\n",
      "  1900  0.96 0.922\n",
      "  2000  0.96 0.934\n",
      "  2100  0.97 0.914\n",
      "  2200  0.96 0.936\n",
      "  2300  0.97 0.918\n",
      "  2400  0.96 0.932\n",
      "  2500  0.97 0.928\n",
      "  2600  0.97 0.926\n",
      "  2700  0.98 0.922\n",
      "  2800  0.97 0.924\n",
      "  2900  0.96 0.934\n"
     ]
    }
   ],
   "source": [
    "model = ConvNN1()\n",
    "optimizer = torch.optim.Adam(model.parameters(), lr=1e-3, weight_decay=0)\n",
    "train_accs, val_accs, steps = [], [], []\n",
    "for i in range(3000):\n",
    "    train(800)\n",
    "    if i % 100 == 0:\n",
    "        train_accs.append(approx_train_accuracy())\n",
    "        val_accs.append(val_accuracy())\n",
    "        steps.append(i)\n",
    "        print(\"%6d %5.2f %5.3f\" % (i, train_accs[-1], val_accs[-1]))"
   ]
  },
  {
   "cell_type": "code",
   "execution_count": 14,
   "metadata": {},
   "outputs": [
    {
     "data": {
      "text/plain": [
       "[<matplotlib.lines.Line2D at 0x7f485b617198>]"
      ]
     },
     "execution_count": 14,
     "metadata": {},
     "output_type": "execute_result"
    },
    {
     "data": {
      "image/png": "[encoded data removed]",
      "text/plain": [
       "<Figure size 432x288 with 1 Axes>"
      ]
     },
     "metadata": {
      "needs_background": "light"
     },
     "output_type": "display_data"
    }
   ],
   "source": [
    "plt.plot(steps, train_accs)\n",
    "plt.plot(steps, val_accs)"
   ]
  },
  {
   "cell_type": "code",
   "execution_count": 73,
   "metadata": {},
   "outputs": [
    {
     "name": "stdout",
     "output_type": "stream",
     "text": [
      "13 0 1\n",
      "20 1 3\n",
      "69 4 1\n",
      "78 2 3\n",
      "100 4 1\n",
      "111 0 4\n",
      "114 2 4\n",
      "120 0 3\n",
      "125 4 1\n",
      "143 4 1\n",
      "152 3 2\n",
      "155 4 2\n",
      "158 3 1\n",
      "173 1 4\n",
      "195 4 1\n",
      "196 0 2\n",
      "198 4 1\n",
      "209 1 2\n",
      "214 0 3\n",
      "233 4 3\n",
      "236 2 1\n",
      "239 3 2\n",
      "244 4 0\n",
      "273 2 4\n",
      "276 0 3\n",
      "286 3 2\n",
      "292 4 1\n",
      "322 4 0\n",
      "325 1 4\n",
      "327 1 3\n",
      "329 2 3\n",
      "330 4 1\n",
      "331 1 2\n",
      "338 2 4\n",
      "350 1 3\n",
      "364 4 0\n",
      "366 2 3\n",
      "406 4 1\n",
      "409 0 4\n",
      "428 4 1\n",
      "432 4 0\n",
      "443 2 1\n",
      "468 3 1\n",
      "472 3 0\n",
      "481 3 2\n",
      "483 4 1\n",
      "488 1 3\n"
     ]
    }
   ],
   "source": [
    "x = torch.from_numpy(val_images.astype(np.float32))\n",
    "y = torch.from_numpy(val_labels.astype(np.int))\n",
    "y_hat = torch.from_numpy(val_labels.astype(np.int))\n",
    "for spot, val in enumerate(x):\n",
    "    y_hat[spot] = torch.max(model(val), 1)[1]\n",
    "del x\n",
    "for spoy, vay in enumerate(y):\n",
    "    if vay != y_hat[spoy]:\n",
    "        print(spoy, y_hat[spoy].numpy(), vay.numpy())"
   ]
  },
  {
   "cell_type": "code",
   "execution_count": 74,
   "metadata": {},
   "outputs": [
    {
     "name": "stdout",
     "output_type": "stream",
     "text": [
      "CORRECTLY CLASSIFIED IMAGES\n"
     ]
    }
   ],
   "source": [
    "print(\"CORRECTLY CLASSIFIED IMAGES\")"
   ]
  },
  {
   "cell_type": "code",
   "execution_count": 76,
   "metadata": {},
   "outputs": [
    {
     "data": {
      "image/png": "[encoded data removed]",
      "text/plain": [
       "<Figure size 432x288 with 1 Axes>"
      ]
     },
     "metadata": {
      "needs_background": "light"
     },
     "output_type": "display_data"
    }
   ],
   "source": [
    "plt.imshow(images[val_entries[0]])\n",
    "plt.set_cmap(\"gray\")"
   ]
  },
  {
   "cell_type": "code",
   "execution_count": 77,
   "metadata": {},
   "outputs": [
    {
     "data": {
      "image/png": "[encoded data removed]",
      "text/plain": [
       "<Figure size 432x288 with 1 Axes>"
      ]
     },
     "metadata": {
      "needs_background": "light"
     },
     "output_type": "display_data"
    }
   ],
   "source": [
    "plt.imshow(images[val_entries[1]])\n",
    "plt.set_cmap(\"gray\")"
   ]
  },
  {
   "cell_type": "code",
   "execution_count": 78,
   "metadata": {},
   "outputs": [
    {
     "data": {
      "image/png": "[encoded data removed]",
      "text/plain": [
       "<Figure size 432x288 with 1 Axes>"
      ]
     },
     "metadata": {
      "needs_background": "light"
     },
     "output_type": "display_data"
    }
   ],
   "source": [
    "plt.imshow(images[val_entries[2]])\n",
    "plt.set_cmap(\"gray\")"
   ]
  },
  {
   "cell_type": "code",
   "execution_count": 79,
   "metadata": {},
   "outputs": [
    {
     "data": {
      "image/png": "[encoded data removed]",
      "text/plain": [
       "<Figure size 432x288 with 1 Axes>"
      ]
     },
     "metadata": {
      "needs_background": "light"
     },
     "output_type": "display_data"
    }
   ],
   "source": [
    "plt.imshow(images[val_entries[3]])\n",
    "plt.set_cmap(\"gray\")"
   ]
  },
  {
   "cell_type": "code",
   "execution_count": 80,
   "metadata": {},
   "outputs": [
    {
     "data": {
      "image/png": "[encoded data removed]",
      "text/plain": [
       "<Figure size 432x288 with 1 Axes>"
      ]
     },
     "metadata": {
      "needs_background": "light"
     },
     "output_type": "display_data"
    }
   ],
   "source": [
    "plt.imshow(images[val_entries[4]])\n",
    "plt.set_cmap(\"gray\")"
   ]
  },
  {
   "cell_type": "code",
   "execution_count": 81,
   "metadata": {},
   "outputs": [
    {
     "data": {
      "image/png": "[encoded data removed]",
      "text/plain": [
       "<Figure size 432x288 with 1 Axes>"
      ]
     },
     "metadata": {
      "needs_background": "light"
     },
     "output_type": "display_data"
    }
   ],
   "source": [
    "plt.imshow(images[val_entries[5]])\n",
    "plt.set_cmap(\"gray\")"
   ]
  },
  {
   "cell_type": "code",
   "execution_count": 82,
   "metadata": {},
   "outputs": [
    {
     "data": {
      "image/png": "[encoded data removed]",
      "text/plain": [
       "<Figure size 432x288 with 1 Axes>"
      ]
     },
     "metadata": {
      "needs_background": "light"
     },
     "output_type": "display_data"
    }
   ],
   "source": [
    "plt.imshow(images[val_entries[6]])\n",
    "plt.set_cmap(\"gray\")"
   ]
  },
  {
   "cell_type": "code",
   "execution_count": 83,
   "metadata": {},
   "outputs": [
    {
     "data": {
      "image/png": "[encoded data removed]",
      "text/plain": [
       "<Figure size 432x288 with 1 Axes>"
      ]
     },
     "metadata": {
      "needs_background": "light"
     },
     "output_type": "display_data"
    }
   ],
   "source": [
    "plt.imshow(images[val_entries[7]])\n",
    "plt.set_cmap(\"gray\")"
   ]
  },
  {
   "cell_type": "code",
   "execution_count": 84,
   "metadata": {},
   "outputs": [
    {
     "data": {
      "image/png": "[encoded data removed]",
      "text/plain": [
       "<Figure size 432x288 with 1 Axes>"
      ]
     },
     "metadata": {
      "needs_background": "light"
     },
     "output_type": "display_data"
    }
   ],
   "source": [
    "plt.imshow(images[val_entries[8]])\n",
    "plt.set_cmap(\"gray\")"
   ]
  },
  {
   "cell_type": "code",
   "execution_count": 85,
   "metadata": {},
   "outputs": [
    {
     "data": {
      "image/png": "[encoded data removed]",
      "text/plain": [
       "<Figure size 432x288 with 1 Axes>"
      ]
     },
     "metadata": {
      "needs_background": "light"
     },
     "output_type": "display_data"
    }
   ],
   "source": [
    "plt.imshow(images[val_entries[9]])\n",
    "plt.set_cmap(\"gray\")"
   ]
  },
  {
   "cell_type": "code",
   "execution_count": 86,
   "metadata": {},
   "outputs": [
    {
     "name": "stdout",
     "output_type": "stream",
     "text": [
      "INCORRECTLY CLASSIFIED IMAGES\n"
     ]
    }
   ],
   "source": [
    "print(\"INCORRECTLY CLASSIFIED IMAGES\")"
   ]
  },
  {
   "cell_type": "code",
   "execution_count": 87,
   "metadata": {},
   "outputs": [
    {
     "data": {
      "image/png": "[encoded data removed]",
      "text/plain": [
       "<Figure size 432x288 with 1 Axes>"
      ]
     },
     "metadata": {
      "needs_background": "light"
     },
     "output_type": "display_data"
    }
   ],
   "source": [
    "plt.imshow(images[val_entries[13]])\n",
    "plt.set_cmap(\"gray\")"
   ]
  },
  {
   "cell_type": "code",
   "execution_count": 88,
   "metadata": {},
   "outputs": [
    {
     "data": {
      "image/png": "[encoded data removed]",
      "text/plain": [
       "<Figure size 432x288 with 1 Axes>"
      ]
     },
     "metadata": {
      "needs_background": "light"
     },
     "output_type": "display_data"
    }
   ],
   "source": [
    "plt.imshow(images[val_entries[20]])\n",
    "plt.set_cmap(\"gray\")"
   ]
  },
  {
   "cell_type": "code",
   "execution_count": 89,
   "metadata": {},
   "outputs": [
    {
     "data": {
      "image/png": "[encoded data removed]",
      "text/plain": [
       "<Figure size 432x288 with 1 Axes>"
      ]
     },
     "metadata": {
      "needs_background": "light"
     },
     "output_type": "display_data"
    }
   ],
   "source": [
    "plt.imshow(images[val_entries[69]])\n",
    "plt.set_cmap(\"gray\")"
   ]
  },
  {
   "cell_type": "code",
   "execution_count": 90,
   "metadata": {},
   "outputs": [
    {
     "data": {
      "image/png": "[encoded data removed]",
      "text/plain": [
       "<Figure size 432x288 with 1 Axes>"
      ]
     },
     "metadata": {
      "needs_background": "light"
     },
     "output_type": "display_data"
    }
   ],
   "source": [
    "plt.imshow(images[val_entries[78]])\n",
    "plt.set_cmap(\"gray\")"
   ]
  },
  {
   "cell_type": "code",
   "execution_count": 91,
   "metadata": {},
   "outputs": [
    {
     "data": {
      "image/png": "[encoded data removed]",
      "text/plain": [
       "<Figure size 432x288 with 1 Axes>"
      ]
     },
     "metadata": {
      "needs_background": "light"
     },
     "output_type": "display_data"
    }
   ],
   "source": [
    "plt.imshow(images[val_entries[100]])\n",
    "plt.set_cmap(\"gray\")"
   ]
  },
  {
   "cell_type": "code",
   "execution_count": 92,
   "metadata": {},
   "outputs": [
    {
     "data": {
      "image/png": "[encoded data removed]",
      "text/plain": [
       "<Figure size 432x288 with 1 Axes>"
      ]
     },
     "metadata": {
      "needs_background": "light"
     },
     "output_type": "display_data"
    }
   ],
   "source": [
    "plt.imshow(images[val_entries[110]])\n",
    "plt.set_cmap(\"gray\")"
   ]
  },
  {
   "cell_type": "code",
   "execution_count": 93,
   "metadata": {},
   "outputs": [
    {
     "data": {
      "image/png": "[encoded data removed]",
      "text/plain": [
       "<Figure size 432x288 with 1 Axes>"
      ]
     },
     "metadata": {
      "needs_background": "light"
     },
     "output_type": "display_data"
    }
   ],
   "source": [
    "plt.imshow(images[val_entries[114]])\n",
    "plt.set_cmap(\"gray\")"
   ]
  },
  {
   "cell_type": "code",
   "execution_count": 94,
   "metadata": {},
   "outputs": [
    {
     "data": {
      "image/png": "[encoded data removed]",
      "text/plain": [
       "<Figure size 432x288 with 1 Axes>"
      ]
     },
     "metadata": {
      "needs_background": "light"
     },
     "output_type": "display_data"
    }
   ],
   "source": [
    "plt.imshow(images[val_entries[120]])\n",
    "plt.set_cmap(\"gray\")"
   ]
  },
  {
   "cell_type": "code",
   "execution_count": 95,
   "metadata": {},
   "outputs": [
    {
     "data": {
      "image/png": "[encoded data removed]",
      "text/plain": [
       "<Figure size 432x288 with 1 Axes>"
      ]
     },
     "metadata": {
      "needs_background": "light"
     },
     "output_type": "display_data"
    }
   ],
   "source": [
    "plt.imshow(images[val_entries[125]])\n",
    "plt.set_cmap(\"gray\")"
   ]
  },
  {
   "cell_type": "code",
   "execution_count": 96,
   "metadata": {},
   "outputs": [
    {
     "data": {
      "image/png": "[encoded data removed]",
      "text/plain": [
       "<Figure size 432x288 with 1 Axes>"
      ]
     },
     "metadata": {
      "needs_background": "light"
     },
     "output_type": "display_data"
    }
   ],
   "source": [
    "plt.imshow(images[val_entries[143]])\n",
    "plt.set_cmap(\"gray\")"
   ]
  },
  {
   "cell_type": "code",
   "execution_count": 97,
   "metadata": {},
   "outputs": [
    {
     "name": "stdout",
     "output_type": "stream",
     "text": [
      "[1 0 0 3 0 4 3 3 1 0 1 0 0 1 2 2 1 4 2 2 3 3 2 3 2 3 3 2 4 1 2 1 2 3 1 0 4\n",
      " 3 2 1 0 3 0 2 1 0 0 1 3 3 2 4 1 0 2 3 1 4 4 3 3 4 2 4 0 0 3 3 1 1 0 0 3 3\n",
      " 3 2 2 0 3 2 2 4 1 1 4 4 1 1 0 1 1 0 4 2 3 3 4 4 0 0 1 3 3 2 2 0 0 0 3 2 4\n",
      " 4 0 3 4 0 1 1 0 0 3 1 1 4 0 1 2 4 4 1 3 3 2 0 4 0 0 4 4 0 1 3 4 1 1 2 4 0\n",
      " 4 1 4 3 2 1 1 2 0 1 1 1 3 0 3 4 2 0 4 2 2 3 3 4 2 4 1 4 4 1 0 2 4 1 3 1 1\n",
      " 4 2 2 2 0 4 4 4 4 4 1 2 1 1 0 0 1 0 2 4 3 2 0 1 2 1 0 4 1 3 0 1 0 0 0 4 3\n",
      " 4 3 4 4 0 1 2 1 2 0 0 3 1 3 1 4 4 2 1 2 2 4 0 0 0 1 0 3 2 0 1 0 0 2 3 2 0\n",
      " 1 3 0 4 4 4 2 3 2 0 0 3 2 3 4 3 2 3 0 4 4 4 2 3 1 0 3 2 0 4 2 3 4 1 0 4 0\n",
      " 3 2 3 3 0 3 0 2 0 3 2 2 4 3 2 4 2 1 0 3 4 2 4 2 1 4 0 0 0 4 2 3 2 3 1 2 2\n",
      " 3 1 4 0 0 4 0 2 2 3 4 4 3 4 3 1 1 3 2 4 0 2 1 3 2 3 0 2 0 2 3 0 0 3 4 3 0\n",
      " 1 3 1 2 1 1 3 2 4 1 0 1 4 0 3 2 3 4 0 1 1 4 4 0 3 4 3 1 3 4 3 4 2 2 1 3 1\n",
      " 2 4 4 2 3 4 3 2 3 1 1 3 0 1 3 4 2 3 2 1 4 1 1 1 3 0 0 4 4 1 3 1 0 3 2 4 1\n",
      " 1 4 3 1 3 3 1 0 1 4 4 4 4 3 3 4 4 3 2 0 3 0 0 4 1 2 1 4 0 3 4 1 3 0 4 2 1\n",
      " 2 0 1 0 3 2 3 3 3 3 1 2 2 4 0 0 2 4 1]\n"
     ]
    }
   ],
   "source": [
    "correct_images = np.zeros((10,26,26))\n",
    "correct_images[0] = images[val_entries[0]]\n",
    "correct_images[1] = images[val_entries[1]]\n",
    "correct_images[2] = images[val_entries[2]]\n",
    "correct_images[3] = images[val_entries[3]]\n",
    "correct_images[4] = images[val_entries[4]]\n",
    "correct_images[5] = images[val_entries[5]]\n",
    "correct_images[6] = images[val_entries[6]]\n",
    "correct_images[7] = images[val_entries[7]]\n",
    "correct_images[8] = images[val_entries[8]]\n",
    "correct_images[9] = images[val_entries[9]]\n",
    "torch_images = torch.from_numpy(correct_images)\n",
    "noise = torch.randn(10,26,26)\n",
    "gausian_images = torch.add(torch_images.double(), torch.from_numpy(noise.numpy()*26.5).double())\n",
    "print(labels[val_entries])"
   ]
  },
  {
   "cell_type": "code",
   "execution_count": 98,
   "metadata": {},
   "outputs": [
    {
     "data": {
      "image/png": "[encoded data removed]",
      "text/plain": [
       "<Figure size 432x288 with 1 Axes>"
      ]
     },
     "metadata": {
      "needs_background": "light"
     },
     "output_type": "display_data"
    }
   ],
   "source": [
    "plt.imshow(gausian_images[0])\n",
    "plt.set_cmap(\"gray\")\n"
   ]
  },
  {
   "cell_type": "code",
   "execution_count": 99,
   "metadata": {},
   "outputs": [
    {
     "data": {
      "image/png": "[encoded data removed]",
      "text/plain": [
       "<Figure size 432x288 with 1 Axes>"
      ]
     },
     "metadata": {
      "needs_background": "light"
     },
     "output_type": "display_data"
    }
   ],
   "source": [
    "plt.imshow(gausian_images[1])\n",
    "plt.set_cmap(\"gray\")"
   ]
  },
  {
   "cell_type": "code",
   "execution_count": 100,
   "metadata": {},
   "outputs": [
    {
     "data": {
      "image/png": "[encoded data removed]",
      "text/plain": [
       "<Figure size 432x288 with 1 Axes>"
      ]
     },
     "metadata": {
      "needs_background": "light"
     },
     "output_type": "display_data"
    }
   ],
   "source": [
    "plt.imshow(gausian_images[2])\n",
    "plt.set_cmap(\"gray\")"
   ]
  },
  {
   "cell_type": "code",
   "execution_count": 101,
   "metadata": {},
   "outputs": [
    {
     "data": {
      "image/png": "[encoded data removed]",
      "text/plain": [
       "<Figure size 432x288 with 1 Axes>"
      ]
     },
     "metadata": {
      "needs_background": "light"
     },
     "output_type": "display_data"
    }
   ],
   "source": [
    "plt.imshow(gausian_images[3])\n",
    "plt.set_cmap(\"gray\")"
   ]
  },
  {
   "cell_type": "code",
   "execution_count": 102,
   "metadata": {},
   "outputs": [
    {
     "data": {
      "image/png": "[encoded data removed]",
      "text/plain": [
       "<Figure size 432x288 with 1 Axes>"
      ]
     },
     "metadata": {
      "needs_background": "light"
     },
     "output_type": "display_data"
    }
   ],
   "source": [
    "plt.imshow(gausian_images[4])\n",
    "plt.set_cmap(\"gray\")"
   ]
  },
  {
   "cell_type": "code",
   "execution_count": 103,
   "metadata": {},
   "outputs": [
    {
     "data": {
      "image/png": "[encoded data removed]",
      "text/plain": [
       "<Figure size 432x288 with 1 Axes>"
      ]
     },
     "metadata": {
      "needs_background": "light"
     },
     "output_type": "display_data"
    }
   ],
   "source": [
    "plt.imshow(gausian_images[5])\n",
    "plt.set_cmap(\"gray\")"
   ]
  },
  {
   "cell_type": "code",
   "execution_count": 104,
   "metadata": {},
   "outputs": [
    {
     "data": {
      "image/png": "[encoded data removed]",
      "text/plain": [
       "<Figure size 432x288 with 1 Axes>"
      ]
     },
     "metadata": {
      "needs_background": "light"
     },
     "output_type": "display_data"
    }
   ],
   "source": [
    "plt.imshow(gausian_images[6])\n",
    "plt.set_cmap(\"gray\")"
   ]
  },
  {
   "cell_type": "code",
   "execution_count": 105,
   "metadata": {},
   "outputs": [
    {
     "data": {
      "image/png": "[encoded data removed]",
      "text/plain": [
       "<Figure size 432x288 with 1 Axes>"
      ]
     },
     "metadata": {
      "needs_background": "light"
     },
     "output_type": "display_data"
    }
   ],
   "source": [
    "plt.imshow(gausian_images[7])\n",
    "plt.set_cmap(\"gray\")"
   ]
  },
  {
   "cell_type": "code",
   "execution_count": 106,
   "metadata": {},
   "outputs": [
    {
     "data": {
      "image/png": "[encoded data removed]",
      "text/plain": [
       "<Figure size 432x288 with 1 Axes>"
      ]
     },
     "metadata": {
      "needs_background": "light"
     },
     "output_type": "display_data"
    }
   ],
   "source": [
    "plt.imshow(gausian_images[8])\n",
    "plt.set_cmap(\"gray\")"
   ]
  },
  {
   "cell_type": "code",
   "execution_count": 107,
   "metadata": {},
   "outputs": [
    {
     "data": {
      "image/png": "[encoded data removed]",
      "text/plain": [
       "<Figure size 432x288 with 1 Axes>"
      ]
     },
     "metadata": {
      "needs_background": "light"
     },
     "output_type": "display_data"
    }
   ],
   "source": [
    "plt.imshow(gausian_images[9])\n",
    "plt.set_cmap(\"gray\")"
   ]
  },
  {
   "cell_type": "code",
   "execution_count": 109,
   "metadata": {},
   "outputs": [
    {
     "name": "stdout",
     "output_type": "stream",
     "text": [
      "[1 0 0 3 0 4 3 3 1 0]\n"
     ]
    }
   ],
   "source": [
    "test_vall=np.zeros((10,676))\n",
    "for i in range(0, 10):\n",
    "    test_vall[i] = gausian_images[i].flatten()\n",
    "test_vall = (test_vall - MEAN)/STD\n",
    "print(torch.max(model(torch.from_numpy(test_vall).float()), 1)[1].numpy())"
   ]
  },
  {
   "cell_type": "code",
   "execution_count": 110,
   "metadata": {},
   "outputs": [],
   "source": [
    "horz_images = np.zeros((10,26,26)) \n",
    "for index in range(0, 10):\n",
    "    for i in range(0, 26):\n",
    "        for j in range(0,13):\n",
    "            horz_images[index][i][j] = torch_images[index][i][25-j]\n",
    "        for k in range(0,13):\n",
    "            horz_images[index][i][k+13] = torch_images[index][i][12-k]"
   ]
  },
  {
   "cell_type": "code",
   "execution_count": 111,
   "metadata": {},
   "outputs": [
    {
     "data": {
      "image/png": "[encoded data removed]",
      "text/plain": [
       "<Figure size 432x288 with 1 Axes>"
      ]
     },
     "metadata": {
      "needs_background": "light"
     },
     "output_type": "display_data"
    }
   ],
   "source": [
    "plt.imshow(horz_images[0])\n",
    "plt.set_cmap(\"gray\")"
   ]
  },
  {
   "cell_type": "code",
   "execution_count": 112,
   "metadata": {},
   "outputs": [
    {
     "data": {
      "image/png": "[encoded data removed]",
      "text/plain": [
       "<Figure size 432x288 with 1 Axes>"
      ]
     },
     "metadata": {
      "needs_background": "light"
     },
     "output_type": "display_data"
    }
   ],
   "source": [
    "plt.imshow(horz_images[1])\n",
    "plt.set_cmap(\"gray\")"
   ]
  },
  {
   "cell_type": "code",
   "execution_count": 113,
   "metadata": {},
   "outputs": [
    {
     "data": {
      "image/png": "[encoded data removed]",
      "text/plain": [
       "<Figure size 432x288 with 1 Axes>"
      ]
     },
     "metadata": {
      "needs_background": "light"
     },
     "output_type": "display_data"
    }
   ],
   "source": [
    "plt.imshow(horz_images[2])\n",
    "plt.set_cmap(\"gray\")"
   ]
  },
  {
   "cell_type": "code",
   "execution_count": 114,
   "metadata": {},
   "outputs": [
    {
     "data": {
      "image/png": "[encoded data removed]",
      "text/plain": [
       "<Figure size 432x288 with 1 Axes>"
      ]
     },
     "metadata": {
      "needs_background": "light"
     },
     "output_type": "display_data"
    }
   ],
   "source": [
    "plt.imshow(horz_images[3])\n",
    "plt.set_cmap(\"gray\")"
   ]
  },
  {
   "cell_type": "code",
   "execution_count": 115,
   "metadata": {},
   "outputs": [
    {
     "data": {
      "image/png": "[encoded data removed]",
      "text/plain": [
       "<Figure size 432x288 with 1 Axes>"
      ]
     },
     "metadata": {
      "needs_background": "light"
     },
     "output_type": "display_data"
    }
   ],
   "source": [
    "plt.imshow(horz_images[4])\n",
    "plt.set_cmap(\"gray\")"
   ]
  },
  {
   "cell_type": "code",
   "execution_count": 116,
   "metadata": {},
   "outputs": [
    {
     "data": {
      "image/png": "[encoded data removed]",
      "text/plain": [
       "<Figure size 432x288 with 1 Axes>"
      ]
     },
     "metadata": {
      "needs_background": "light"
     },
     "output_type": "display_data"
    }
   ],
   "source": [
    "plt.imshow(horz_images[5])\n",
    "plt.set_cmap(\"gray\")"
   ]
  },
  {
   "cell_type": "code",
   "execution_count": 117,
   "metadata": {},
   "outputs": [
    {
     "data": {
      "image/png": "[encoded data removed]",
      "text/plain": [
       "<Figure size 432x288 with 1 Axes>"
      ]
     },
     "metadata": {
      "needs_background": "light"
     },
     "output_type": "display_data"
    }
   ],
   "source": [
    "plt.imshow(horz_images[6])\n",
    "plt.set_cmap(\"gray\")"
   ]
  },
  {
   "cell_type": "code",
   "execution_count": 118,
   "metadata": {},
   "outputs": [
    {
     "data": {
      "image/png": "[encoded data removed]",
      "text/plain": [
       "<Figure size 432x288 with 1 Axes>"
      ]
     },
     "metadata": {
      "needs_background": "light"
     },
     "output_type": "display_data"
    }
   ],
   "source": [
    "plt.imshow(horz_images[7])\n",
    "plt.set_cmap(\"gray\")"
   ]
  },
  {
   "cell_type": "code",
   "execution_count": 119,
   "metadata": {},
   "outputs": [
    {
     "data": {
      "image/png": "[encoded data removed]",
      "text/plain": [
       "<Figure size 432x288 with 1 Axes>"
      ]
     },
     "metadata": {
      "needs_background": "light"
     },
     "output_type": "display_data"
    }
   ],
   "source": [
    "plt.imshow(horz_images[8])\n",
    "plt.set_cmap(\"gray\")"
   ]
  },
  {
   "cell_type": "code",
   "execution_count": 120,
   "metadata": {},
   "outputs": [
    {
     "data": {
      "image/png": "[encoded data removed]",
      "text/plain": [
       "<Figure size 432x288 with 1 Axes>"
      ]
     },
     "metadata": {
      "needs_background": "light"
     },
     "output_type": "display_data"
    }
   ],
   "source": [
    "plt.imshow(horz_images[9])\n",
    "plt.set_cmap(\"gray\")"
   ]
  },
  {
   "cell_type": "code",
   "execution_count": 121,
   "metadata": {},
   "outputs": [
    {
     "name": "stdout",
     "output_type": "stream",
     "text": [
      "[1 0 0 3 0 4 3 3 1 0]\n"
     ]
    }
   ],
   "source": [
    "test_vall=np.zeros((10,676))\n",
    "for i in range(0, 10):\n",
    "    test_vall[i] = horz_images[i].flatten()\n",
    "test_vall = (test_vall - MEAN)/STD\n",
    "print(torch.max(model(torch.from_numpy(test_vall).float()), 1)[1].numpy())"
   ]
  },
  {
   "cell_type": "code",
   "execution_count": 67,
   "metadata": {},
   "outputs": [],
   "source": []
  }
 ],
 "metadata": {
  "kernelspec": {
   "display_name": "Python 3",
   "language": "python",
   "name": "python3"
  },
  "language_info": {
   "codemirror_mode": {
    "name": "ipython",
    "version": 3
   },
   "file_extension": ".py",
   "mimetype": "text/x-python",
   "name": "python",
   "nbconvert_exporter": "python",
   "pygments_lexer": "ipython3",
   "version": "3.6.6"
  }
 },
 "nbformat": 4,
 "nbformat_minor": 2
}
