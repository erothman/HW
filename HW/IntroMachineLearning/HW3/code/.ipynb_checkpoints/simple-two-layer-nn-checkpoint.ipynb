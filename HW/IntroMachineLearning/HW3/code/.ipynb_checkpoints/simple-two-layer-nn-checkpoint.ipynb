{
 "cells": [
  {
   "cell_type": "code",
   "execution_count": 1,
   "metadata": {},
   "outputs": [],
   "source": [
    "%matplotlib inline\n",
    "import matplotlib.pyplot as plt\n",
    "import numpy as np\n",
    "\n",
    "import torch\n",
    "from torch import autograd\n",
    "import torch.nn.functional as F"
   ]
  },
  {
   "cell_type": "code",
   "execution_count": 2,
   "metadata": {},
   "outputs": [],
   "source": [
    "images = np.load(\"images.npy\")\n",
    "labels = np.load(\"labels.npy\")\n",
    "\n",
    "flat_images = np.zeros((len(images),len(images[0])*len(images[0][0])))\n",
    "for i in range(0, len(images)-1):\n",
    "    flat_images[i] = images[i].flatten()"
   ]
  },
  {
   "cell_type": "code",
   "execution_count": 3,
   "metadata": {},
   "outputs": [],
   "source": [
    "HEIGHT = 26\n",
    "WIDTH = 26\n",
    "NUM_CLASSES = 5\n",
    "D_H = 100\n",
    "NUM_OPT_STEPS = 5000"
   ]
  },
  {
   "cell_type": "code",
   "execution_count": 4,
   "metadata": {},
   "outputs": [],
   "source": [
    "class TwoLayerNN(torch.nn.Module):\n",
    "    \n",
    "    def __init__(self):\n",
    "        super(TwoLayerNN, self).__init__()\n",
    "        self.linear1 = torch.nn.Linear(HEIGHT * WIDTH, D_H)\n",
    "        self.linear2 = torch.nn.Linear(D_H, NUM_CLASSES)\n",
    "        \n",
    "    def forward(self, x):\n",
    "        h_relu = self.linear1(x).clamp(min=0)\n",
    "        y_pred = self.linear2(h_relu)\n",
    "        return y_pred"
   ]
  },
  {
   "cell_type": "code",
   "execution_count": 5,
   "metadata": {},
   "outputs": [],
   "source": [
    "model = TwoLayerNN()"
   ]
  },
  {
   "cell_type": "code",
   "execution_count": 6,
   "metadata": {},
   "outputs": [],
   "source": [
    "optimizer = torch.optim.Adam(model.parameters(), lr=1e-3)"
   ]
  },
  {
   "cell_type": "code",
   "execution_count": 7,
   "metadata": {},
   "outputs": [],
   "source": [
    "def train(batch_size):\n",
    "    i = np.random.choice(flat_images.shape[0], size=batch_size, replace=False)\n",
    "    x = torch.from_numpy(flat_images[i].astype(np.float32))\n",
    "    y = torch.from_numpy(labels[i].astype(np.int))\n",
    "    y_hat_ = model(x)\n",
    "    loss = F.cross_entropy(y_hat_, y)\n",
    "    optimizer.zero_grad()\n",
    "    loss.backward()\n",
    "    optimizer.step()\n",
    "    return loss.item()"
   ]
  },
  {
   "cell_type": "code",
   "execution_count": 8,
   "metadata": {},
   "outputs": [],
   "source": [
    "def accuracy(y, y_hat):\n",
    "    return (y == y_hat).astype(np.float).mean()"
   ]
  },
  {
   "cell_type": "code",
   "execution_count": 9,
   "metadata": {},
   "outputs": [],
   "source": [
    "def approx_train_accuracy():\n",
    "    i = np.random.choice(flat_images.shape[0], size=1000, replace=False)\n",
    "    x = torch.from_numpy(flat_images[i].astype(np.float32))\n",
    "    y = torch.from_numpy(labels[i].astype(np.int))\n",
    "    y_hat = torch.from_numpy(labels[i].astype(np.int))\n",
    "    for spot, val in enumerate(x):\n",
    "        y_hat[spot] = torch.max(model(val), 0)[1]\n",
    "    return accuracy(y.numpy(), y_hat.numpy())"
   ]
  },
  {
   "cell_type": "code",
   "execution_count": 10,
   "metadata": {},
   "outputs": [],
   "source": [
    "def val_accuracy():\n",
    "    x = torch.from_numpy(flat_images.astype(np.float32))\n",
    "    y = torch.from_numpy(labels.astype(np.int))\n",
    "    y_hat = torch.from_numpy(labels.astype(np.int))\n",
    "    for spot, val in enumerate(x):\n",
    "        y_hat[spot] = torch.max(model(val), 0)[1]\n",
    "    return accuracy(y.numpy(), y_hat.numpy())"
   ]
  },
  {
   "cell_type": "code",
   "execution_count": 11,
   "metadata": {},
   "outputs": [
    {
     "name": "stdout",
     "output_type": "stream",
     "text": [
      "     0  0.22  0.20\n",
      "   100  0.49  0.50\n",
      "   200  0.47  0.49\n",
      "   300  0.54  0.51\n",
      "   400  0.41  0.44\n",
      "   500  0.45  0.45\n",
      "   600  0.53  0.54\n",
      "   700  0.53  0.53\n",
      "   800  0.53  0.53\n",
      "   900  0.50  0.49\n",
      "  1000  0.48  0.50\n",
      "  1100  0.48  0.47\n",
      "  1200  0.60  0.58\n",
      "  1300  0.52  0.52\n",
      "  1400  0.49  0.49\n",
      "  1500  0.49  0.51\n",
      "  1600  0.55  0.55\n",
      "  1700  0.57  0.58\n",
      "  1800  0.48  0.48\n",
      "  1900  0.52  0.54\n",
      "  2000  0.56  0.57\n",
      "  2100  0.59  0.58\n",
      "  2200  0.57  0.57\n",
      "  2300  0.55  0.58\n",
      "  2400  0.56  0.59\n",
      "  2500  0.51  0.54\n",
      "  2600  0.51  0.52\n",
      "  2700  0.58  0.55\n",
      "  2800  0.54  0.52\n",
      "  2900  0.57  0.54\n",
      "  3000  0.59  0.59\n",
      "  3100  0.44  0.45\n",
      "  3200  0.60  0.58\n",
      "  3300  0.52  0.54\n",
      "  3400  0.62  0.62\n",
      "  3500  0.52  0.53\n",
      "  3600  0.56  0.56\n",
      "  3700  0.56  0.56\n",
      "  3800  0.54  0.56\n",
      "  3900  0.61  0.59\n",
      "  4000  0.59  0.59\n",
      "  4100  0.53  0.56\n",
      "  4200  0.54  0.55\n",
      "  4300  0.54  0.55\n",
      "  4400  0.60  0.57\n",
      "  4500  0.65  0.66\n",
      "  4600  0.66  0.65\n",
      "  4700  0.65  0.65\n",
      "  4800  0.67  0.64\n",
      "  4900  0.60  0.60\n"
     ]
    }
   ],
   "source": [
    "train_accs, val_accs, steps = [], [], []\n",
    "for i in range(NUM_OPT_STEPS):\n",
    "    train(1)\n",
    "    if i % 100 == 0:\n",
    "        train_accs.append(approx_train_accuracy())\n",
    "        val_accs.append(val_accuracy())\n",
    "        steps.append(i)\n",
    "        print(\"%6d %5.2f %5.2f\" % (i, train_accs[-1], val_accs[-1]))"
   ]
  },
  {
   "cell_type": "code",
   "execution_count": 12,
   "metadata": {},
   "outputs": [
    {
     "data": {
      "text/plain": [
       "[<matplotlib.lines.Line2D at 0x7f529b424860>]"
      ]
     },
     "execution_count": 12,
     "metadata": {},
     "output_type": "execute_result"
    },
    {
     "data": {
      "image/png": "[encoded data removed]",
      "text/plain": [
       "<Figure size 432x288 with 1 Axes>"
      ]
     },
     "metadata": {
      "needs_background": "light"
     },
     "output_type": "display_data"
    }
   ],
   "source": [
    "plt.plot(steps, train_accs)\n",
    "plt.plot(steps, val_accs)"
   ]
  },
  {
   "cell_type": "code",
   "execution_count": 13,
   "metadata": {},
   "outputs": [],
   "source": [
    "model.linear1.reset_parameters()\n",
    "model.linear2.reset_parameters()\n",
    "optimizer = torch.optim.Adam(model.parameters(), lr=1e-3)"
   ]
  },
  {
   "cell_type": "code",
   "execution_count": 14,
   "metadata": {},
   "outputs": [
    {
     "name": "stdout",
     "output_type": "stream",
     "text": [
      "     0  0.18  0.19\n",
      "   100  0.56  0.57\n",
      "   200  0.57  0.60\n",
      "   300  0.62  0.63\n",
      "   400  0.64  0.65\n",
      "   500  0.68  0.68\n",
      "   600  0.68  0.67\n",
      "   700  0.71  0.71\n",
      "   800  0.67  0.69\n",
      "   900  0.67  0.70\n",
      "  1000  0.71  0.71\n",
      "  1100  0.70  0.70\n",
      "  1200  0.68  0.69\n",
      "  1300  0.71  0.72\n",
      "  1400  0.67  0.68\n",
      "  1500  0.70  0.71\n",
      "  1600  0.70  0.71\n",
      "  1700  0.73  0.71\n",
      "  1800  0.72  0.72\n",
      "  1900  0.74  0.73\n",
      "  2000  0.73  0.72\n",
      "  2100  0.73  0.73\n",
      "  2200  0.68  0.69\n",
      "  2300  0.70  0.72\n",
      "  2400  0.70  0.70\n",
      "  2500  0.73  0.72\n",
      "  2600  0.72  0.71\n",
      "  2700  0.71  0.70\n",
      "  2800  0.73  0.73\n",
      "  2900  0.69  0.69\n",
      "  3000  0.71  0.70\n",
      "  3100  0.67  0.70\n",
      "  3200  0.73  0.74\n",
      "  3300  0.72  0.72\n",
      "  3400  0.71  0.72\n",
      "  3500  0.72  0.72\n",
      "  3600  0.69  0.72\n",
      "  3700  0.71  0.72\n",
      "  3800  0.70  0.71\n",
      "  3900  0.76  0.74\n",
      "  4000  0.73  0.74\n",
      "  4100  0.74  0.74\n",
      "  4200  0.74  0.73\n",
      "  4300  0.71  0.73\n",
      "  4400  0.73  0.74\n",
      "  4500  0.72  0.72\n",
      "  4600  0.74  0.73\n",
      "  4700  0.76  0.75\n",
      "  4800  0.74  0.75\n",
      "  4900  0.71  0.74\n"
     ]
    }
   ],
   "source": [
    "train_accs, val_accs, steps = [], [], []\n",
    "for i in range(NUM_OPT_STEPS):\n",
    "    train(10)\n",
    "    if i % 100 == 0:\n",
    "        train_accs.append(approx_train_accuracy())\n",
    "        val_accs.append(val_accuracy())\n",
    "        steps.append(i)\n",
    "        print(\"%6d %5.2f %5.2f\" % (i, train_accs[-1], val_accs[-1]))"
   ]
  },
  {
   "cell_type": "code",
   "execution_count": 15,
   "metadata": {},
   "outputs": [
    {
     "data": {
      "text/plain": [
       "[<matplotlib.lines.Line2D at 0x7f52f477dc88>]"
      ]
     },
     "execution_count": 15,
     "metadata": {},
     "output_type": "execute_result"
    },
    {
     "data": {
      "image/png": "[encoded data removed]",
      "text/plain": [
       "<Figure size 432x288 with 1 Axes>"
      ]
     },
     "metadata": {
      "needs_background": "light"
     },
     "output_type": "display_data"
    }
   ],
   "source": [
    "plt.plot(steps, train_accs)\n",
    "plt.plot(steps, val_accs)"
   ]
  },
  {
   "cell_type": "code",
   "execution_count": 16,
   "metadata": {},
   "outputs": [
    {
     "name": "stdout",
     "output_type": "stream",
     "text": [
      "     0  0.19  0.18\n",
      "   100  0.67  0.68\n",
      "   200  0.72  0.72\n",
      "   300  0.74  0.74\n",
      "   400  0.73  0.76\n",
      "   500  0.80  0.78\n",
      "   600  0.80  0.79\n",
      "   700  0.82  0.81\n",
      "   800  0.83  0.82\n",
      "   900  0.82  0.83\n",
      "  1000  0.86  0.83\n",
      "  1100  0.81  0.84\n",
      "  1200  0.87  0.85\n",
      "  1300  0.86  0.86\n",
      "  1400  0.86  0.86\n",
      "  1500  0.88  0.87\n",
      "  1600  0.86  0.87\n",
      "  1700  0.86  0.88\n",
      "  1800  0.90  0.88\n",
      "  1900  0.89  0.89\n",
      "  2000  0.90  0.89\n",
      "  2100  0.93  0.89\n",
      "  2200  0.91  0.90\n",
      "  2300  0.90  0.90\n",
      "  2400  0.92  0.90\n",
      "  2500  0.92  0.91\n",
      "  2600  0.89  0.91\n",
      "  2700  0.93  0.91\n",
      "  2800  0.92  0.92\n",
      "  2900  0.93  0.92\n",
      "  3000  0.92  0.92\n",
      "  3100  0.95  0.93\n",
      "  3200  0.93  0.93\n",
      "  3300  0.94  0.93\n",
      "  3400  0.95  0.93\n",
      "  3500  0.95  0.94\n",
      "  3600  0.94  0.94\n",
      "  3700  0.94  0.94\n",
      "  3800  0.95  0.95\n",
      "  3900  0.95  0.95\n",
      "  4000  0.95  0.95\n",
      "  4100  0.96  0.96\n",
      "  4200  0.95  0.96\n",
      "  4300  0.96  0.96\n",
      "  4400  0.96  0.96\n",
      "  4500  0.96  0.97\n",
      "  4600  0.96  0.97\n",
      "  4700  0.97  0.97\n",
      "  4800  0.98  0.97\n",
      "  4900  0.97  0.97\n",
      "  5000  0.98  0.98\n",
      "  5100  0.99  0.98\n",
      "  5200  0.98  0.98\n",
      "  5300  0.99  0.98\n",
      "  5400  0.98  0.98\n",
      "  5500  0.98  0.98\n",
      "  5600  0.99  0.99\n",
      "  5700  0.99  0.99\n",
      "  5800  0.98  0.99\n",
      "  5900  0.98  0.99\n",
      "  6000  0.99  0.99\n",
      "  6100  1.00  0.99\n",
      "  6200  0.99  0.99\n",
      "  6300  0.99  0.99\n",
      "  6400  0.99  0.99\n"
     ]
    }
   ],
   "source": [
    "model.linear1.reset_parameters()\n",
    "model.linear2.reset_parameters()\n",
    "optimizer = torch.optim.Adam(model.parameters(), lr=1e-4)\n",
    "train_accs, val_accs, steps = [], [], []\n",
    "for i in range(7000):\n",
    "    train(10000)\n",
    "    if i % 100 == 0:\n",
    "        train_accs.append(approx_train_accuracy())\n",
    "        val_accs.append(val_accuracy())\n",
    "        steps.append(i)\n",
    "        print(\"%6d %5.2f %5.2f\" % (i, train_accs[-1], val_accs[-1]))"
   ]
  },
  {
   "cell_type": "code",
   "execution_count": 17,
   "metadata": {},
   "outputs": [
    {
     "data": {
      "text/plain": [
       "[<matplotlib.lines.Line2D at 0x7f52880bc048>]"
      ]
     },
     "execution_count": 17,
     "metadata": {},
     "output_type": "execute_result"
    },
    {
     "data": {
      "image/png": "[encoded data removed]",
      "text/plain": [
       "<Figure size 432x288 with 1 Axes>"
      ]
     },
     "metadata": {
      "needs_background": "light"
     },
     "output_type": "display_data"
    }
   ],
   "source": [
    "plt.plot(steps, train_accs)\n",
    "plt.plot(steps, val_accs)"
   ]
  },
  {
   "cell_type": "code",
   "execution_count": null,
   "metadata": {},
   "outputs": [],
   "source": []
  }
 ],
 "metadata": {
  "kernelspec": {
   "display_name": "Python 3",
   "language": "python",
   "name": "python3"
  },
  "language_info": {
   "codemirror_mode": {
    "name": "ipython",
    "version": 3
   },
   "file_extension": ".py",
   "mimetype": "text/x-python",
   "name": "python",
   "nbconvert_exporter": "python",
   "pygments_lexer": "ipython3",
   "version": "3.6.6"
  }
 },
 "nbformat": 4,
 "nbformat_minor": 2
}
